{
 "cells": [
  {
   "cell_type": "code",
   "execution_count": 9,
   "metadata": {},
   "outputs": [],
   "source": [
    "# from langchain_openai import OpenAI\n",
    "# from langchain.chains import LLMChain\n",
    "# from prompts import ice_cream_assistant_prompt_template\n",
    "# from langchain.memory.buffer import ConversationBufferMemory\n",
    "# from api_docs import coolio_api_docs"
   ]
  },
  {
   "cell_type": "code",
   "execution_count": 11,
   "metadata": {},
   "outputs": [
    {
     "name": "stdout",
     "output_type": "stream",
     "text": [
      "2024-03-22 16:07:18 - Created default config file at /Users/anthonymoran/230730 My Documents/Natta.ai/Development/medium-langchain/.chainlit/config.toml\n",
      "2024-03-22 16:07:18 - Created default translation directory at /Users/anthonymoran/230730 My Documents/Natta.ai/Development/medium-langchain/.chainlit/translations\n",
      "2024-03-22 16:07:18 - Created default translation file at /Users/anthonymoran/230730 My Documents/Natta.ai/Development/medium-langchain/.chainlit/translations/pt-BR.json\n",
      "2024-03-22 16:07:18 - Created default translation file at /Users/anthonymoran/230730 My Documents/Natta.ai/Development/medium-langchain/.chainlit/translations/en-US.json\n",
      "2024-03-22 16:07:18 - Loaded .env file\n"
     ]
    },
    {
     "data": {
      "text/plain": [
       "True"
      ]
     },
     "execution_count": 11,
     "metadata": {},
     "output_type": "execute_result"
    }
   ],
   "source": [
    "from dotenv import load_dotenv\n",
    "\n",
    "import chainlit as cl\n",
    "\n",
    "load_dotenv()"
   ]
  },
  {
   "cell_type": "code",
   "execution_count": 19,
   "metadata": {},
   "outputs": [],
   "source": [
    "@cl.on_chat_start\n",
    "def query_llm():\n",
    "    llm = OpenAI(\n",
    "        model='gpt-3.5-turbo-instruct',\n",
    "        temperature =0)\n",
    "    \n",
    "    conversation_memory = ConversationBufferMemory(\n",
    "        memory_key=\"chat_history\",\n",
    "        max_length=200,\n",
    "        return_messages=True,\n",
    "        )\n",
    "\n",
    "    llm_chain = LLMChain(\n",
    "        llm=llm, \n",
    "        prompt=ice_cream_assistant_prompt_template,\n",
    "        memory=conversation_memory\n",
    "        )\n",
    "    cl.user_session.set(\"llm_chain\", llm_chain)\n",
    "\n",
    "    # def query_llm(question):\n",
    "    #     print(llm_chain.invoke({'question': question})['text'])\n",
    "        \n",
    "    # if __name__ == \"__main__\":\n",
    "    #     query_llm(\"Who are you?\")\n"
   ]
  },
  {
   "cell_type": "code",
   "execution_count": 16,
   "metadata": {},
   "outputs": [],
   "source": [
    "@cl.on_message\n",
    "async def query_llm(message: cl.Message):\n",
    "    llm_chain = cl.user_session.get(\"llm_chain\")\n",
    "    response = await llm_chain.acall(\n",
    "        message.content, \n",
    "        callbacks=[cl.AsyncLangchainCallbackHandler()])\n",
    "    \n",
    "    await cl.Message(response[\"text\"]).send()"
   ]
  },
  {
   "cell_type": "code",
   "execution_count": 20,
   "metadata": {},
   "outputs": [],
   "source": [
    "# if __name__ == '__main__':\n",
    "#     question = \"What is 2+2?\"\n",
    "#     query_llm(question)"
   ]
  },
  {
   "cell_type": "code",
   "execution_count": 21,
   "metadata": {},
   "outputs": [],
   "source": [
    "# question = \"I need chocolate ice-cream recipe\"\n",
    "# print(llm_chain.invoke({'question': question})['text'])"
   ]
  }
 ],
 "metadata": {
  "kernelspec": {
   "display_name": "natta",
   "language": "python",
   "name": "python3"
  },
  "language_info": {
   "codemirror_mode": {
    "name": "ipython",
    "version": 3
   },
   "file_extension": ".py",
   "mimetype": "text/x-python",
   "name": "python",
   "nbconvert_exporter": "python",
   "pygments_lexer": "ipython3",
   "version": "3.11.8"
  }
 },
 "nbformat": 4,
 "nbformat_minor": 2
}
